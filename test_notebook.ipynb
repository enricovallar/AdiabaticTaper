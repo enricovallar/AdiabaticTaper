{
 "cells": [
  {
   "cell_type": "code",
   "execution_count": 2,
   "metadata": {},
   "outputs": [],
   "source": [
    "import importlib.util\n",
    "#The default paths for windows\n",
    "spec_win = importlib.util.spec_from_file_location('lumapi', 'C:\\\\Program Files\\\\Lumerical\\\\v242\\\\api\\\\python\\\\lumapi.py')\n",
    "#Functions that perform the actual loading\n",
    "lumapi = importlib.util.module_from_spec(spec_win) # \n",
    "spec_win.loader.exec_module(lumapi)\n",
    "import numpy as np\n",
    "\n",
    "from waveguides_simulations import GeomBuilder"
   ]
  },
  {
   "cell_type": "code",
   "execution_count": 6,
   "metadata": {},
   "outputs": [],
   "source": [
    "env = lumapi.MODE()"
   ]
  },
  {
   "cell_type": "code",
   "execution_count": 10,
   "metadata": {},
   "outputs": [
    {
     "name": "stdout",
     "output_type": "stream",
     "text": [
      "{!!}\n",
      "\n",
      "{!!}\n",
      "\n",
      "{!!}\n",
      "\n",
      "{!!}\n",
      "\n",
      "{!!}\n",
      "\n",
      "{!!}\n",
      "\n"
     ]
    },
    {
     "name": "stderr",
     "output_type": "stream",
     "text": [
      "C:\\Program Files\\Lumerical\\v242\\api\\python\\lumapi.py:160: UserWarning: Multiple objects named '::model::Taper::Taper_in'. Use of this object may give unexpected results.\n",
      "  warnings.warn(message)\n"
     ]
    }
   ],
   "source": [
    "geom = GeomBuilder(env)\n",
    "geom.input_wg()\n",
    "geom.taper_top()\n",
    "geom.taper_bottom()\n",
    "geom.output_wg()\n",
    "\n"
   ]
  },
  {
   "cell_type": "code",
   "execution_count": 11,
   "metadata": {},
   "outputs": [],
   "source": [
    "from taperDesigner import TaperDesigner\n",
    "env = lumapi.MODE()\n"
   ]
  },
  {
   "cell_type": "code",
   "execution_count": 12,
   "metadata": {},
   "outputs": [],
   "source": [
    "taper = TaperDesigner(env)"
   ]
  },
  {
   "cell_type": "code",
   "execution_count": null,
   "metadata": {},
   "outputs": [],
   "source": []
  },
  {
   "cell_type": "markdown",
   "metadata": {},
   "source": []
  }
 ],
 "metadata": {
  "kernelspec": {
   "display_name": "Python 3",
   "language": "python",
   "name": "python3"
  },
  "language_info": {
   "codemirror_mode": {
    "name": "ipython",
    "version": 3
   },
   "file_extension": ".py",
   "mimetype": "text/x-python",
   "name": "python",
   "nbconvert_exporter": "python",
   "pygments_lexer": "ipython3",
   "version": "3.9.9"
  }
 },
 "nbformat": 4,
 "nbformat_minor": 2
}
